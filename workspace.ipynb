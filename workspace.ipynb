{
 "cells": [
  {
   "cell_type": "code",
   "execution_count": null,
   "id": "620f1059-556c-481e-97ec-deead1c3e3f8",
   "metadata": {},
   "outputs": [],
   "source": [
    "%reload_ext autoreload\n",
    "%autoreload 2"
   ]
  },
  {
   "cell_type": "code",
   "execution_count": null,
   "id": "be093be2-14e9-40f8-ac1c-7e5a96fb27b7",
   "metadata": {},
   "outputs": [],
   "source": [
    "import os\n",
    "import sys"
   ]
  },
  {
   "cell_type": "code",
   "execution_count": null,
   "id": "77725153-1bcc-44eb-b54b-ab2063c46848",
   "metadata": {},
   "outputs": [],
   "source": [
    "sys.path.append(\"./\")"
   ]
  },
  {
   "cell_type": "code",
   "execution_count": null,
   "id": "baf29155-c436-4cc9-90c8-bb0b8d4bc719",
   "metadata": {},
   "outputs": [],
   "source": [
    "os.path.dirname(os.path.abspath(__file__))"
   ]
  },
  {
   "cell_type": "code",
   "execution_count": null,
   "id": "3223d1ba-5c3f-4be8-83f2-3495f61e1f1e",
   "metadata": {},
   "outputs": [],
   "source": [
    "from clients.sfclient import SnowflakeClient\n",
    "sf_client = SnowflakeClient()"
   ]
  },
  {
   "cell_type": "code",
   "execution_count": null,
   "id": "6084679f-ad60-4ee1-83f5-c4a36d5ad5f1",
   "metadata": {},
   "outputs": [],
   "source": []
  },
  {
   "cell_type": "code",
   "execution_count": null,
   "id": "b6d36ee0-d266-472b-8ba6-98c3267b0acf",
   "metadata": {},
   "outputs": [],
   "source": [
    "sf_client.create_database()"
   ]
  },
  {
   "cell_type": "code",
   "execution_count": null,
   "id": "5a1d75e6-699d-4913-98c7-6d52c293b152",
   "metadata": {},
   "outputs": [],
   "source": []
  },
  {
   "cell_type": "code",
   "execution_count": null,
   "id": "7c8d9a19-acce-434c-a984-b0252ee99214",
   "metadata": {},
   "outputs": [],
   "source": [
    "sf_client.delete_users_table()"
   ]
  },
  {
   "cell_type": "code",
   "execution_count": null,
   "id": "9b0e298f-7eb2-4f9b-b4f0-2c68d3d2d136",
   "metadata": {},
   "outputs": [],
   "source": [
    "sf_client.create_users_table()"
   ]
  },
  {
   "cell_type": "code",
   "execution_count": null,
   "id": "f441de9b-b5ab-4793-a3bc-1731bc77ceb9",
   "metadata": {},
   "outputs": [],
   "source": [
    "sf_client.insert_users_data()"
   ]
  },
  {
   "cell_type": "code",
   "execution_count": null,
   "id": "0c8974f9-6423-4718-bcdd-24a984756dec",
   "metadata": {},
   "outputs": [],
   "source": []
  },
  {
   "cell_type": "code",
   "execution_count": null,
   "id": "d19df159-55d3-4f27-951a-886bba28e3eb",
   "metadata": {},
   "outputs": [],
   "source": [
    "sf_client.delete_orders_table()"
   ]
  },
  {
   "cell_type": "code",
   "execution_count": null,
   "id": "787091e8-9f19-4af9-a769-f21a65c7b1be",
   "metadata": {},
   "outputs": [],
   "source": [
    "sf_client.create_orders_table()"
   ]
  },
  {
   "cell_type": "code",
   "execution_count": null,
   "id": "d14a3490-ca9e-46fb-9b6d-fe5f24f33b30",
   "metadata": {},
   "outputs": [],
   "source": [
    "sf_client.insert_orders_data()"
   ]
  },
  {
   "cell_type": "code",
   "execution_count": null,
   "id": "22d28378-c4b4-4af6-bf2c-727dbee04c29",
   "metadata": {},
   "outputs": [],
   "source": []
  },
  {
   "cell_type": "code",
   "execution_count": null,
   "id": "003cd017-5f59-4b3e-a8dd-50248b850747",
   "metadata": {},
   "outputs": [],
   "source": [
    "from clients.bqclient import BigQueryClient\n",
    "\n",
    "bq_client = BigQueryClient()"
   ]
  },
  {
   "cell_type": "code",
   "execution_count": null,
   "id": "8abc96dc-71a1-4a38-92b5-fe0ec6e227b5",
   "metadata": {},
   "outputs": [],
   "source": []
  },
  {
   "cell_type": "code",
   "execution_count": null,
   "id": "c9450ae3-e650-4e82-8895-e147eecdacbe",
   "metadata": {},
   "outputs": [],
   "source": [
    "query: str = f\"\"\"\n",
    "    SELECT DISTINCT\n",
    "    FORMAT_TIMESTAMP('%Y-%m', order_time) AS year_month\n",
    "    FROM {bq_client.dataset_id}.{bq_client.orders_table_id}\n",
    "    ORDER BY year_month;\n",
    "\"\"\"\n",
    "result = bq_client.execute_query(query)\n",
    "year_months =[row.values()[0] for row in result]"
   ]
  },
  {
   "cell_type": "code",
   "execution_count": null,
   "id": "5ddf7aa0-bbdb-491f-b1e3-6788ec12c070",
   "metadata": {},
   "outputs": [],
   "source": [
    "result.num_results"
   ]
  },
  {
   "cell_type": "code",
   "execution_count": null,
   "id": "a6c70959-e7cb-4394-8f13-6d6acc08e521",
   "metadata": {},
   "outputs": [],
   "source": [
    "pivot_query = f\"\"\"\n",
    "    SELECT u.user_id,\n",
    "           {', '.join([f\"IFNULL(SUM(IF(FORMAT_TIMESTAMP('%Y-%m', o.order_time) = '{ym}', 1, 0)), 0) AS `{ym}`\" for ym in year_months])}\n",
    "    FROM test_db.users u\n",
    "    LEFT JOIN test_db.orders o\n",
    "    ON u.user_id = o.user_id\n",
    "    GROUP BY u.user_id\n",
    "\"\"\"\n",
    "print(pivot_query)"
   ]
  },
  {
   "cell_type": "code",
   "execution_count": null,
   "id": "2d1837b7-4c58-4db3-bdd8-7b1416fb90ea",
   "metadata": {},
   "outputs": [],
   "source": [
    "pivot_query = f\"\"\"\n",
    "    SELECT u.user_id,\n",
    "        {', '.join([f\"IFNULL(SUM(IF(FORMAT_TIMESTAMP('%Y-%m', o.order_time) = '{ym}', 1, 0)), 0) AS `{ym}`\" for ym in year_months])}\n",
    "    FROM {bq_client.dataset_id}.{bq_client.users_table_id} u\n",
    "    LEFT JOIN {bq_client.dataset_id}.{bq_client.orders_table_id} o\n",
    "    ON u.user_id = o.user_id\n",
    "    GROUP BY u.user_id\n",
    "    ORDER BY u.user_id;\n",
    "\"\"\"\n",
    "print(pivot_query)\n",
    "result = bq_client.execute_query(query=pivot_query)\n",
    "print(f\"bq_list_orders_count_per_user_and_yearmonth: {result.total_rows}\")\n",
    "# assert result.num_results == 10000"
   ]
  },
  {
   "cell_type": "code",
   "execution_count": null,
   "id": "474a91a6-8fb4-4a51-8191-bc7de9876b48",
   "metadata": {},
   "outputs": [],
   "source": [
    "result.total_rows"
   ]
  },
  {
   "cell_type": "code",
   "execution_count": null,
   "id": "45cb8836-d549-407b-832b-08d42a55de76",
   "metadata": {},
   "outputs": [],
   "source": [
    "result.num_results"
   ]
  },
  {
   "cell_type": "code",
   "execution_count": null,
   "id": "8a65eeb5-b980-4069-a0b8-08bf51e18029",
   "metadata": {},
   "outputs": [],
   "source": [
    "results = bq_client.client.query(pivot_query, project=bq_client.project_id)"
   ]
  },
  {
   "cell_type": "code",
   "execution_count": null,
   "id": "f03e087b-94db-4f6b-933b-2d43f3ba31fe",
   "metadata": {},
   "outputs": [],
   "source": [
    "for row in results:\n",
    "    print(row)"
   ]
  },
  {
   "cell_type": "code",
   "execution_count": null,
   "id": "174dd8ed-9b30-417c-ae7c-27d60f5518ed",
   "metadata": {},
   "outputs": [],
   "source": [
    "result.schema"
   ]
  },
  {
   "cell_type": "code",
   "execution_count": null,
   "id": "a74b730c-ed53-4577-8110-10dad7c8df6a",
   "metadata": {},
   "outputs": [],
   "source": []
  },
  {
   "cell_type": "code",
   "execution_count": null,
   "id": "de590558-0021-42e8-98ba-b29089ac9636",
   "metadata": {},
   "outputs": [],
   "source": [
    "pivot_query = f\"\"\"\n",
    "    SELECT * FROM (\n",
    "        SELECT user_id,\n",
    "               TO_VARCHAR(order_time, 'YYYY-MM') AS year_month\n",
    "        FROM orders\n",
    "        LEFT JOIN orders o\n",
    "        ON u.user_id = o.user_id\n",
    "    )\n",
    "    PIVOT (\n",
    "        COUNT(year_month)\n",
    "        FOR year_month IN ({', '.join([\"'\" + ym + \"'\" for ym in year_months])})\n",
    "    )\n",
    "    ORDER BY user_id;\n",
    "\"\"\"\n",
    "\n",
    "print(pivot_query)"
   ]
  },
  {
   "cell_type": "code",
   "execution_count": null,
   "id": "aaeb2cf8-8632-4dec-bdd2-d255e4f6abb1",
   "metadata": {},
   "outputs": [],
   "source": []
  },
  {
   "cell_type": "code",
   "execution_count": null,
   "id": "fd31bc3d-ea44-4ca0-87af-9f3c2e221829",
   "metadata": {},
   "outputs": [],
   "source": []
  },
  {
   "cell_type": "code",
   "execution_count": null,
   "id": "4a96d3cc-8ccd-4f2b-8793-b68e56785b45",
   "metadata": {},
   "outputs": [],
   "source": [
    "query = f\"\"\"\n",
    "    SELECT\n",
    "        u.user_id,\n",
    "        u.username,\n",
    "        COUNT(o.order_id) AS total_orders\n",
    "    FROM\n",
    "        {bq_client.dataset_id}.{bq_client.users_table_id} u\n",
    "    LEFT JOIN\n",
    "        {bq_client.dataset_id}.{bq_client.orders_table_id} o ON u.user_id = o.user_id\n",
    "    GROUP BY\n",
    "        u.user_id, u.username\n",
    "    ORDER BY\n",
    "        total_orders DESC;\n",
    "\"\"\""
   ]
  },
  {
   "cell_type": "code",
   "execution_count": null,
   "id": "db01588c-0012-450e-a897-6924df6ba9be",
   "metadata": {},
   "outputs": [],
   "source": [
    "result = bq_client.execute_query(query)"
   ]
  },
  {
   "cell_type": "code",
   "execution_count": null,
   "id": "06f3dba9-4ec8-4c3b-9eec-61fb4231ee15",
   "metadata": {},
   "outputs": [],
   "source": []
  },
  {
   "cell_type": "code",
   "execution_count": null,
   "id": "3fda2a50-bd04-4ff6-862d-fc55178b630a",
   "metadata": {},
   "outputs": [],
   "source": [
    "for row in result:\n",
    "    print(row)"
   ]
  },
  {
   "cell_type": "code",
   "execution_count": null,
   "id": "ec5301ea-967f-4f3e-92f1-a1d1e4213a5f",
   "metadata": {},
   "outputs": [],
   "source": []
  },
  {
   "cell_type": "code",
   "execution_count": null,
   "id": "f87ea226-ad00-4967-94e3-9e4bb275cf27",
   "metadata": {},
   "outputs": [],
   "source": [
    "bq_client.truncate_table(bq_client.orders_table_id)"
   ]
  },
  {
   "cell_type": "code",
   "execution_count": null,
   "id": "d4a3f20a-83c0-4c8c-b711-5205eee02194",
   "metadata": {},
   "outputs": [],
   "source": [
    "bq_client.create_dataset()"
   ]
  },
  {
   "cell_type": "code",
   "execution_count": null,
   "id": "2df5a895-951a-4dce-bc14-7741f65a2466",
   "metadata": {},
   "outputs": [],
   "source": [
    "bq_client.create_users_table()"
   ]
  },
  {
   "cell_type": "code",
   "execution_count": null,
   "id": "393361b0-477f-4083-b371-6e86138bf18b",
   "metadata": {},
   "outputs": [],
   "source": [
    "bq_client.insert_users_data()"
   ]
  },
  {
   "cell_type": "code",
   "execution_count": null,
   "id": "d382d1e3-2803-46eb-86c8-3182e3b0e67f",
   "metadata": {},
   "outputs": [],
   "source": []
  },
  {
   "cell_type": "code",
   "execution_count": null,
   "id": "06b6b5a4-87f9-4131-ae68-1c1434e44ed6",
   "metadata": {},
   "outputs": [],
   "source": []
  },
  {
   "cell_type": "code",
   "execution_count": null,
   "id": "55c2833b-4733-42a7-926a-a211b23b7a89",
   "metadata": {},
   "outputs": [],
   "source": [
    "bq_client.create_orders_table()"
   ]
  },
  {
   "cell_type": "code",
   "execution_count": null,
   "id": "9fd33eae-c822-4a64-bba5-e5612e1224f2",
   "metadata": {},
   "outputs": [],
   "source": [
    "bq_client.insert_orders_data()"
   ]
  },
  {
   "cell_type": "code",
   "execution_count": null,
   "id": "1fdf606c-6bcd-4913-bd7b-c5e2a1e7ff7b",
   "metadata": {},
   "outputs": [],
   "source": []
  },
  {
   "cell_type": "code",
   "execution_count": null,
   "id": "e6ca84d5-a6a4-4f24-955a-dabb5f9b7cfb",
   "metadata": {},
   "outputs": [],
   "source": []
  },
  {
   "cell_type": "code",
   "execution_count": null,
   "id": "d7068ab4-c982-47cc-a27c-e211b748aa2f",
   "metadata": {},
   "outputs": [],
   "source": [
    "import pandas as pd\n",
    "\n",
    "users_df = pd.read_pickle(\"tests/faker_users.pkl\")"
   ]
  },
  {
   "cell_type": "code",
   "execution_count": null,
   "id": "7a2404f1-6530-4764-9f1e-579d761f04d5",
   "metadata": {},
   "outputs": [],
   "source": [
    "[(row.user_id, row.username, row.email) for row in users_df.itertuples()]"
   ]
  },
  {
   "cell_type": "code",
   "execution_count": null,
   "id": "fc31953f-c5a3-4e5f-a073-2b17605c1c45",
   "metadata": {},
   "outputs": [],
   "source": [
    "orders_df = pd.read_pickle(filepath_or_buffer=\"tests/faker_orders.pkl\")"
   ]
  },
  {
   "cell_type": "code",
   "execution_count": null,
   "id": "636494e8-3e83-4bab-bebb-1657d04a69b5",
   "metadata": {},
   "outputs": [],
   "source": [
    "[(row.order_id, row.user_id, row.product, row.amount, row.order_time) for row in orders_df.itertuples()]"
   ]
  }
 ],
 "metadata": {
  "kernelspec": {
   "display_name": "Python 3 (ipykernel)",
   "language": "python",
   "name": "python3"
  },
  "language_info": {
   "codemirror_mode": {
    "name": "ipython",
    "version": 3
   },
   "file_extension": ".py",
   "mimetype": "text/x-python",
   "name": "python",
   "nbconvert_exporter": "python",
   "pygments_lexer": "ipython3",
   "version": "3.10.13"
  }
 },
 "nbformat": 4,
 "nbformat_minor": 5
}
